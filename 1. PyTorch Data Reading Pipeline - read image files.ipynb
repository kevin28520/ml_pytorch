{
 "cells": [
  {
   "cell_type": "markdown",
   "id": "de9c420a",
   "metadata": {},
   "source": [
    "# 1. PyTorch Data Reading Pipeline - read image files\n",
    "\n",
    "### CelebA Dataset: Large-scale CelebFaces Attributes (CelebA) Dataset\n",
    "\n",
    "![alt text](utils/1_1_celeba_intro.png \"\")\n",
    "\n",
    "- Paperwithcode intro: https://paperswithcode.com/dataset/celeba\n",
    "- Official website: http://mmlab.ie.cuhk.edu.hk/projects/CelebA.html\n",
    "- Data folder: https://drive.google.com/drive/folders/0B7EVK8r0v71pWEZsZE9oNnFzTm8?resourcekey=0-5BR16BdXnb8hVj6CNHKzLg\n",
    "- Data download link: https://drive.google.com/file/d/0B7EVK8r0v71pZjFTYXZWM3FlRnM/view?usp=drive_link&resourcekey=0-dYn9z10tMJOBAkviAcfdyQ\n",
    "- Label download link: https://drive.google.com/file/d/1_ee_0u7vcNLOfNLegJRHmolfH5ICW-XS/view?usp=drive_link"
   ]
  },
  {
   "cell_type": "code",
   "execution_count": 2,
   "id": "280de179",
   "metadata": {},
   "outputs": [
    {
     "name": "stdout",
     "output_type": "stream",
     "text": [
      "2.0.1\n"
     ]
    }
   ],
   "source": [
    "import os\n",
    "\n",
    "import torch\n",
    "from torch.utils.data import DataLoader, Dataset\n",
    "print(torch.__version__)"
   ]
  },
  {
   "cell_type": "code",
   "execution_count": null,
   "id": "72db9e3c",
   "metadata": {},
   "outputs": [],
   "source": []
  }
 ],
 "metadata": {
  "kernelspec": {
   "display_name": "Python 3 (ipykernel)",
   "language": "python",
   "name": "python3"
  },
  "language_info": {
   "codemirror_mode": {
    "name": "ipython",
    "version": 3
   },
   "file_extension": ".py",
   "mimetype": "text/x-python",
   "name": "python",
   "nbconvert_exporter": "python",
   "pygments_lexer": "ipython3",
   "version": "3.11.4"
  }
 },
 "nbformat": 4,
 "nbformat_minor": 5
}
